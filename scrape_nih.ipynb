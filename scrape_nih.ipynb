{
 "cells": [
  {
   "cell_type": "code",
   "execution_count": 3,
   "metadata": {
    "collapsed": true,
    "deletable": true,
    "editable": true
   },
   "outputs": [],
   "source": [
    "import os\n",
    "from bs4 import BeautifulSoup\n",
    "from urllib.request import urlopen, urlretrieve\n",
    "import zipfile\n",
    "import glob"
   ]
  },
  {
   "cell_type": "markdown",
   "metadata": {
    "deletable": true,
    "editable": true
   },
   "source": [
    "# Get and clean NIH files"
   ]
  },
  {
   "cell_type": "markdown",
   "metadata": {
    "deletable": true,
    "editable": true
   },
   "source": [
    "### Scrape files from NIH exporter\n",
    "NIH makes this very easy to do by having all the zip files of a single topic, by year, on a single webpage. I scraped from two webpages - abstracts and projects."
   ]
  },
  {
   "cell_type": "code",
   "execution_count": 13,
   "metadata": {
    "collapsed": false,
    "deletable": true,
    "editable": true
   },
   "outputs": [],
   "source": [
    "def get_zip_files(URL, OUTPUT_DIR):\n",
    "    \"\"\"\n",
    "    Gets zip files from URL and downloads into OUTPUT_DIR\n",
    "    \"\"\"\n",
    "    u = urlopen(URL)\n",
    "    soup = BeautifulSoup(u.read(), 'html.parser')\n",
    "    \n",
    "    for link in soup.find_all('a'):\n",
    "        href = link.get('href')\n",
    "        try:\n",
    "            if href.startswith('CSVs') and href.endswith('.zip'):\n",
    "                link = 'https://exporter.nih.gov/' + href\n",
    "                filename = os.path.join(OUTPUT_DIR, link.rsplit('/', 1)[-1])\n",
    "                urlretrieve(link, filename)\n",
    "        except AttributeError:\n",
    "            continue"
   ]
  },
  {
   "cell_type": "markdown",
   "metadata": {
    "deletable": true,
    "editable": true
   },
   "source": [
    "### Unzip files into csvs and delete the zips"
   ]
  },
  {
   "cell_type": "code",
   "execution_count": 29,
   "metadata": {
    "collapsed": false,
    "deletable": true,
    "editable": true
   },
   "outputs": [],
   "source": [
    "def unzip_files(directory):\n",
    "    \"\"\"\n",
    "    unzip files in input directory\n",
    "    \"\"\"\n",
    "    filelist = glob.glob(directory + '*.zip')\n",
    "    for file in filelist:\n",
    "        with zipfile.ZipFile(file, mode='r') as zip_ref:\n",
    "            zip_ref.extractall(path=directory)\n",
    "            zip_ref.close()\n",
    "\n",
    "def delete_zips(directory):\n",
    "    \"\"\"\n",
    "    delete zips in a given directory\n",
    "    \"\"\"\n",
    "    for file in os.listdir(directory):\n",
    "        if file.endswith('.zip'):\n",
    "            os.remove(directory + file)\n",
    "            \n",
    "def get_csvs(webgroup):\n",
    "    \"\"\"\n",
    "    gets zip files from a given url and converts them into csvs\n",
    "    webgroup[0] is the url to get zipfiles to download\n",
    "    webgroup[1] is the directory where zips and csvs will be processed in\n",
    "    \"\"\"\n",
    "    # scrape zipfiles from NIH\n",
    "    get_zip_files(webgroup[0], webgroup[1])\n",
    "    \n",
    "    # unzip them into csvs\n",
    "    unzip_files(webgroup[1])\n",
    "    \n",
    "    # delete the zips\n",
    "    delete_zips(webgroup[1])"
   ]
  },
  {
   "cell_type": "markdown",
   "metadata": {
    "deletable": true,
    "editable": true
   },
   "source": [
    "### Get the files!"
   ]
  },
  {
   "cell_type": "code",
   "execution_count": 28,
   "metadata": {
    "collapsed": true,
    "deletable": true,
    "editable": true
   },
   "outputs": [],
   "source": [
    "abstracts = ['https://exporter.nih.gov/ExPORTER_Catalog.aspx?sid=0&index=1', \n",
    "             './abstracts/']\n",
    "\n",
    "projects = ['https://exporter.nih.gov/ExPORTER_Catalog.aspx',\n",
    "            './projects/']\n",
    "\n",
    "get_csvs(abstracts)\n",
    "get_csvs(projects)"
   ]
  },
  {
   "cell_type": "code",
   "execution_count": null,
   "metadata": {
    "collapsed": true,
    "deletable": true,
    "editable": true
   },
   "outputs": [],
   "source": []
  }
 ],
 "metadata": {
  "anaconda-cloud": {},
  "kernelspec": {
   "display_name": "Python [Root]",
   "language": "python",
   "name": "Python [Root]"
  },
  "language_info": {
   "codemirror_mode": {
    "name": "ipython",
    "version": 3
   },
   "file_extension": ".py",
   "mimetype": "text/x-python",
   "name": "python",
   "nbconvert_exporter": "python",
   "pygments_lexer": "ipython3",
   "version": "3.5.2"
  }
 },
 "nbformat": 4,
 "nbformat_minor": 0
}
