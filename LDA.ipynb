{
 "cells": [
  {
   "cell_type": "markdown",
   "metadata": {},
   "source": [
    "# How has neuroscience changed over time?\n",
    "\n",
    "What I have done so far is to scrape abstract and project data from the NIH, filtered out projects to get neuroscience R01s, and converted all the abstract text into a processable form. \n",
    "\n",
    "Now, using the abstracts, I will implement a clustering method called latent dirichlet allocation to get clusters of abtracts unified by their neuroscience subfield. \n",
    "\n",
    "Finally, I will look inside each cluster and simply track how each subfield has changed over time, based on proportion of projects in that subfield for any given year.\n",
    "\n",
    "This was much more difficult than I expected. Most of my work isn't shown here, but I tried all sorts of different clustering methods (hierarchical clustering, K-means, affinity propagation) with different parameters (distance, TF-IDF, PCA) before settling into LDA. Simply put, LDA worked the best for topic extraction.\n",
    "\n",
    "-----"
   ]
  },
  {
   "cell_type": "code",
   "execution_count": 3,
   "metadata": {
    "collapsed": false
   },
   "outputs": [],
   "source": [
    "import pandas as pd\n",
    "import numpy as np\n",
    "import seaborn as sns\n",
    "from matplotlib import pyplot\n",
    "\n",
    "from gensim import corpora, models\n",
    "import pyLDAvis.gensim\n",
    "\n",
    "%matplotlib inline"
   ]
  },
  {
   "cell_type": "markdown",
   "metadata": {},
   "source": [
    "# Get the data\n",
    "Read in csv file containing wordlist and year for each neuroscience R01."
   ]
  },
  {
   "cell_type": "code",
   "execution_count": 4,
   "metadata": {
    "collapsed": true
   },
   "outputs": [],
   "source": [
    "df = pd.read_csv('all_years.csv')"
   ]
  },
  {
   "cell_type": "code",
   "execution_count": 5,
   "metadata": {
    "collapsed": false,
    "scrolled": true
   },
   "outputs": [
    {
     "name": "stderr",
     "output_type": "stream",
     "text": [
      "//anaconda/lib/python3.5/site-packages/IPython/core/formatters.py:92: DeprecationWarning: DisplayFormatter._ipython_display_formatter_default is deprecated: use @default decorator instead.\n",
      "  def _ipython_display_formatter_default(self):\n",
      "//anaconda/lib/python3.5/site-packages/IPython/core/formatters.py:669: DeprecationWarning: PlainTextFormatter._singleton_printers_default is deprecated: use @default decorator instead.\n",
      "  def _singleton_printers_default(self):\n"
     ]
    },
    {
     "data": {
      "text/html": [
       "<div>\n",
       "<table border=\"1\" class=\"dataframe\">\n",
       "  <thead>\n",
       "    <tr style=\"text-align: right;\">\n",
       "      <th></th>\n",
       "      <th>Unnamed: 0</th>\n",
       "      <th>wordlist</th>\n",
       "      <th>year</th>\n",
       "    </tr>\n",
       "  </thead>\n",
       "  <tbody>\n",
       "    <tr>\n",
       "      <th>0</th>\n",
       "      <td>21427</td>\n",
       "      <td>['program', 'research', 'design', 'investig', ...</td>\n",
       "      <td>1985</td>\n",
       "    </tr>\n",
       "    <tr>\n",
       "      <th>1</th>\n",
       "      <td>21430</td>\n",
       "      <td>['mammalian', 'alkaloid', 'result', 'condens',...</td>\n",
       "      <td>1985</td>\n",
       "    </tr>\n",
       "    <tr>\n",
       "      <th>2</th>\n",
       "      <td>21435</td>\n",
       "      <td>['exist', 'cognit', 'preceptualmotor', 'defici...</td>\n",
       "      <td>1985</td>\n",
       "    </tr>\n",
       "    <tr>\n",
       "      <th>3</th>\n",
       "      <td>21436</td>\n",
       "      <td>['although', 'alcohol', 'alcohol', 'abus', 're...</td>\n",
       "      <td>1985</td>\n",
       "    </tr>\n",
       "    <tr>\n",
       "      <th>4</th>\n",
       "      <td>21439</td>\n",
       "      <td>['recent', 'neuropsycholog', 'studi', 'detect'...</td>\n",
       "      <td>1985</td>\n",
       "    </tr>\n",
       "  </tbody>\n",
       "</table>\n",
       "</div>"
      ],
      "text/plain": [
       "   Unnamed: 0                                           wordlist  year\n",
       "0       21427  ['program', 'research', 'design', 'investig', ...  1985\n",
       "1       21430  ['mammalian', 'alkaloid', 'result', 'condens',...  1985\n",
       "2       21435  ['exist', 'cognit', 'preceptualmotor', 'defici...  1985\n",
       "3       21436  ['although', 'alcohol', 'alcohol', 'abus', 're...  1985\n",
       "4       21439  ['recent', 'neuropsycholog', 'studi', 'detect'...  1985"
      ]
     },
     "execution_count": 5,
     "metadata": {},
     "output_type": "execute_result"
    }
   ],
   "source": [
    "df.head()"
   ]
  },
  {
   "cell_type": "code",
   "execution_count": 6,
   "metadata": {
    "code_folding": [
     0
    ],
    "collapsed": false
   },
   "outputs": [
    {
     "data": {
      "text/plain": [
       "(124997, 3)"
      ]
     },
     "execution_count": 6,
     "metadata": {},
     "output_type": "execute_result"
    }
   ],
   "source": [
    "df.shape"
   ]
  },
  {
   "cell_type": "markdown",
   "metadata": {},
   "source": [
    "# How has the number of neuro projects changed over time?\n",
    "\n",
    "I expected the number of neuroscience projects to increase with time.  I don't know what the nature of that increase looks like (linear? exponential?), but the number of projects should go up.  Neuroscience is not a dying field."
   ]
  },
  {
   "cell_type": "code",
   "execution_count": 7,
   "metadata": {
    "collapsed": false
   },
   "outputs": [
    {
     "data": {
      "text/plain": [
       "<matplotlib.axes._subplots.AxesSubplot at 0x118184208>"
      ]
     },
     "execution_count": 7,
     "metadata": {},
     "output_type": "execute_result"
    },
    {
     "data": {
      "image/png": "[encoded data removed]",
      "text/plain": [
       "<matplotlib.figure.Figure at 0x1180a3630>"
      ]
     },
     "metadata": {},
     "output_type": "display_data"
    }
   ],
   "source": [
    "df.groupby('year')['wordlist'].count().plot()"
   ]
  },
  {
   "cell_type": "markdown",
   "metadata": {},
   "source": [
    "- There is a trend of an increase funding for neuroscience R01s and then stagnation from about 2005.\n",
    "- Why the sudden drop in abstracts in 1996? Digging into the dataframe for 1996, I found that many of the abstracts were not recorded and thus were given NaN values -- for all R01s in 1996, only 1024 of them had abstract text. For this project, it is fine to simply drop all the data for 1996 since I haver 30 years of data."
   ]
  },
  {
   "cell_type": "code",
   "execution_count": 8,
   "metadata": {
    "collapsed": true
   },
   "outputs": [],
   "source": [
    "# drop 1996 from df\n",
    "df = df[df.year != 1996]"
   ]
  },
  {
   "cell_type": "code",
   "execution_count": 9,
   "metadata": {
    "collapsed": false
   },
   "outputs": [
    {
     "data": {
      "text/plain": [
       "(124849, 3)"
      ]
     },
     "execution_count": 9,
     "metadata": {},
     "output_type": "execute_result"
    }
   ],
   "source": [
    "df.shape"
   ]
  },
  {
   "cell_type": "code",
   "execution_count": 10,
   "metadata": {
    "collapsed": false
   },
   "outputs": [
    {
     "data": {
      "text/plain": [
       "<matplotlib.axes._subplots.AxesSubplot at 0x11881d198>"
      ]
     },
     "execution_count": 10,
     "metadata": {},
     "output_type": "execute_result"
    },
    {
     "data": {
      "image/png": "[encoded data removed]",
      "text/plain": [
       "<matplotlib.figure.Figure at 0x11886db00>"
      ]
     },
     "metadata": {},
     "output_type": "display_data"
    }
   ],
   "source": [
    "df.groupby('year')['wordlist'].count().plot()"
   ]
  },
  {
   "cell_type": "markdown",
   "metadata": {},
   "source": [
    "This looks much better. 1995 looks potentially concerning, and I'd have to go back to the 1995 abstracts to see whether a huge chunk of them were missing or not, but I'm just not going to worry about it for now."
   ]
  },
  {
   "cell_type": "markdown",
   "metadata": {},
   "source": [
    "# Get document-term matrix\n",
    "\n",
    "The first time I did this, I actually did this manually because I wanted to go through the process and understand how things were actually done instead of zipping through some pre-made functions. Yes, it is reinventing the wheel a little bit, but it helps me learn. \n",
    "\n",
    "Most of the work is easily done using the gensim package, which I highly recommend."
   ]
  },
  {
   "cell_type": "code",
   "execution_count": 11,
   "metadata": {
    "collapsed": true
   },
   "outputs": [],
   "source": [
    "def get_clean_wordlist(series):\n",
    "    \"\"\"\n",
    "    input: a pandas Series containing the abstract wordlist (df.wordlist) where each row is a string representation of a list\n",
    "    returns: the list representation of a wordlist, which is required for gensim.\n",
    "    \"\"\"\n",
    "    \n",
    "    texts = list(series)\n",
    "    \n",
    "    # clean wordlist\n",
    "    clean_texts = []\n",
    "    for text in texts:\n",
    "        text = text[2:-2].split(\"', '\")\n",
    "        clean_texts.append(text)\n",
    "    return clean_texts"
   ]
  },
  {
   "cell_type": "code",
   "execution_count": 12,
   "metadata": {
    "collapsed": true
   },
   "outputs": [],
   "source": [
    "# implement get_clean_wordlist\n",
    "texts = get_clean_wordlist(df.wordlist)"
   ]
  },
  {
   "cell_type": "code",
   "execution_count": 13,
   "metadata": {
    "collapsed": true
   },
   "outputs": [],
   "source": [
    "# get unique words list\n",
    "dictionary = corpora.Dictionary(texts)"
   ]
  },
  {
   "cell_type": "code",
   "execution_count": 14,
   "metadata": {
    "collapsed": true
   },
   "outputs": [],
   "source": [
    "# get document-term matrix\n",
    "corpus = [dictionary.doc2bow(tex) for tex in texts]"
   ]
  },
  {
   "cell_type": "markdown",
   "metadata": {},
   "source": [
    "# Extract topics from neuroscience projects!\n",
    "\n",
    "I used LDA for extracting neuroscience subfields from the abstracts."
   ]
  },
  {
   "cell_type": "code",
   "execution_count": null,
   "metadata": {
    "collapsed": false
   },
   "outputs": [],
   "source": [
    "def lda(corpus, num_topics, passes, alpha):\n",
    "    \"\"\"\n",
    "    inputs -\n",
    "    corpus: document-term matrix; nested list\n",
    "    num_topics: integer, how many topics\n",
    "    passes: integer\n",
    "    alpha: float; how many topics do you expect each document to belong to\n",
    "    \n",
    "    This function computes LDA, visualizes it using pyLDAvis, and returns the model.\n",
    "    \"\"\"\n",
    "    lda = models.ldamodel.LdaModel(corpus, num_topics=num_topics, passes=passes, alpha=alpha)\n",
    "    followers_data =  pyLDAvis.gensim.prepare(lda, corpus, dictionary)\n",
    "    pyLDAvis.display(followers_data)\n",
    "\n",
    "    pyLDAvis.save_html(followers_data, 'LDA_' + str(num_topics) + '_' + str(passes) + '_' + str(alpha) + '.html')\n",
    "    \n",
    "    return lda"
   ]
  },
  {
   "cell_type": "markdown",
   "metadata": {},
   "source": [
    "LDA implementation. I tried multiple number of topics but 20 seems to work the best."
   ]
  },
  {
   "cell_type": "code",
   "execution_count": null,
   "metadata": {
    "collapsed": false
   },
   "outputs": [],
   "source": [
    "ldas_dict = {}\n",
    "# num_topics = [8, 15, 20, 40]\n",
    "num_topics = [20]\n",
    "passes = 50\n",
    "alpha = 0.01\n",
    "\n",
    "for topic in num_topics:\n",
    "    lda_model = lda(corpus, topic, passes, alpha)\n",
    "    ldas_dict[topic] = lda_model"
   ]
  },
  {
   "cell_type": "code",
   "execution_count": null,
   "metadata": {
    "collapsed": false
   },
   "outputs": [],
   "source": [
    "ldas_dict"
   ]
  },
  {
   "cell_type": "markdown",
   "metadata": {},
   "source": [
    "Get topic labels based on your neuroscience expertise."
   ]
  },
  {
   "cell_type": "code",
   "execution_count": null,
   "metadata": {
    "collapsed": true
   },
   "outputs": [],
   "source": [
    "topics_20 = ['neurogenesis', 'computational neuroscience', 'human neuro - developmental (asd, schizophrenia)', \n",
    "             'electrophysiology?', 'cellular neuroscience - intracellular signaling', 'ligand-gated ion channels', \n",
    "             'sensory systems', 'neuroinflammation', 'neurodegeneration', 'human neuro - diseases', \n",
    "             'reward and addiction', 'ion channels - excitability', 'ischemia', 'pain', 'motor control', \n",
    "             'human neuro - in utero', 'neuroendocrine', 'autonomic regulation', 'hunger and satiety', 'epilepsy']"
   ]
  },
  {
   "cell_type": "markdown",
   "metadata": {},
   "source": [
    "# Quantification and visualization\n",
    "## How big is each topic overall?\n",
    "I will try to quantify how big each topic is in two ways. First, split up project based on topic probability. And get topic size by summing up proportions of each project inside it."
   ]
  },
  {
   "cell_type": "code",
   "execution_count": null,
   "metadata": {
    "code_folding": [],
    "collapsed": true
   },
   "outputs": [],
   "source": [
    "def get_topic_size_split_project(num_topics, corpus, lda):\n",
    "    \"\"\"\n",
    "    inputs: \n",
    "    num_topics, integer\n",
    "    corpus, document-term matrix\n",
    "    lda, model\n",
    "    returns: dictionary containing topic number as keys and number of projects (as a proportion) as values.\n",
    "    \"\"\"\n",
    "    # initialize topic dict\n",
    "    topic_dict = {}\n",
    "    for j in range(num_topics):\n",
    "        topic_dict[j] = 0\n",
    "    \n",
    "    # add project proportions into each topic\n",
    "    for i in range(len(corpus)):\n",
    "        doc_topics = lda.get_document_topics(corpus[i])\n",
    "        for topic in doc_topics:\n",
    "            topic_dict[topic[0]] += topic[1]\n",
    "    \n",
    "    return topic_dict"
   ]
  },
  {
   "cell_type": "markdown",
   "metadata": {},
   "source": [
    "Second, bin the entire project into a topic space based on highest probability."
   ]
  },
  {
   "cell_type": "code",
   "execution_count": null,
   "metadata": {
    "code_folding": [],
    "collapsed": true
   },
   "outputs": [],
   "source": [
    "def get_topic_size_whole_project(num_topics, corpus, lda):\n",
    "    \"\"\"\n",
    "    inputs: \n",
    "    num_topics, integer\n",
    "    corpus, document-term matrix\n",
    "    lda, model\n",
    "    returns: dictionary containing topic number as keys and number of projects (as a whole) as values.\n",
    "    \"\"\"\n",
    "    from operator import itemgetter\n",
    "    \n",
    "    # initialize topic dict\n",
    "    topic_dict = {}\n",
    "    for j in range(num_topics):\n",
    "        topic_dict[j] = 0\n",
    "    \n",
    "    # add whole projects into topic\n",
    "    for i in range(len(corpus)):\n",
    "        doc_topics = lda.get_document_topics(corpus[i])\n",
    "        np_topics = np.array(doc_topics)\n",
    "        index = np.argmax(np_topics, axis=0)[1]\n",
    "        topic_dict[doc_topics[index][0]] += 1\n",
    "        \n",
    "    assert (sum(topic_dict.values()) == len(corpus)), \"algo wrong\"\n",
    "    return topic_dict"
   ]
  },
  {
   "cell_type": "code",
   "execution_count": null,
   "metadata": {
    "code_folding": [],
    "collapsed": true
   },
   "outputs": [],
   "source": [
    "def topic_size_scatter(topic_dict):\n",
    "    \"\"\"\n",
    "    input: dictionary containing topic number as keys and sum of projects as values\n",
    "    returns: 2 scatterplot-ready lists\n",
    "    \"\"\"\n",
    "    td_list = [(k,v) for k,v in topic_dict.items()] \n",
    "    x_td_list = [x[0] for x in td_list]\n",
    "    y_td_list = [x[1] for x in td_list]\n",
    "    return x_td_list, y_td_list"
   ]
  },
  {
   "cell_type": "markdown",
   "metadata": {},
   "source": [
    "### How similar are the two ways I choose to represent topic size?"
   ]
  },
  {
   "cell_type": "code",
   "execution_count": null,
   "metadata": {
    "code_folding": [],
    "collapsed": true
   },
   "outputs": [],
   "source": [
    "def topic_size(num_topics, corpus, lda):\n",
    "    \"\"\"\n",
    "    inputs: \n",
    "    num_topics, integer\n",
    "    corpus, document-term matrix\n",
    "    lda, model\n",
    "    plots: scatterplot of topic v. projects per topic. Red dots are whole projects; blue dots are sums of project proportions\n",
    "    returns: dictionary containing topic number as keys and number of projects (as a whole) as values.\n",
    "    \"\"\"\n",
    "    # get projects\n",
    "    split_dict = get_topic_size_split_project(num_topics, corpus, lda)\n",
    "    whole_dict = get_topic_size_whole_project(num_topics, corpus, lda)\n",
    "\n",
    "    # get scatterplot-ready data\n",
    "    s_x, s_y = topic_size_scatter(split_dict)\n",
    "    w_x, w_y = topic_size_scatter(whole_dict)\n",
    "\n",
    "    # make scatterplots\n",
    "    pyplot.scatter(s_x, s_y, color='b')\n",
    "    pyplot.scatter(w_x, w_y, color='r')\n",
    "    \n",
    "    return whole_dict"
   ]
  },
  {
   "cell_type": "code",
   "execution_count": null,
   "metadata": {
    "collapsed": false
   },
   "outputs": [],
   "source": [
    "whole_dict = topic_size(20, corpus, ldas_dict[20])"
   ]
  },
  {
   "cell_type": "markdown",
   "metadata": {},
   "source": [
    "Pretty similar! There is obviously some variation but not major enough to warrant doing anything with it. Regardless, I will use whole projects per topic because the below analysis is not going to make sense otherwise."
   ]
  },
  {
   "cell_type": "markdown",
   "metadata": {},
   "source": [
    "## How has the size of each topic changed over time?"
   ]
  },
  {
   "cell_type": "code",
   "execution_count": null,
   "metadata": {
    "collapsed": false
   },
   "outputs": [],
   "source": [
    "# get labels for each topic\n",
    "\n",
    "def get_topic_labels(num_topics, corpus, lda):\n",
    "    topic_labels = []\n",
    "    for i in range(len(corpus)):\n",
    "        doc_topics = lda.get_document_topics(corpus[i])\n",
    "        np_topics = np.array(doc_topics)\n",
    "        index = np.argmax(np_topics, axis=0)[1]\n",
    "        topic_labels.append(doc_topics[index][0])\n",
    "    return topic_labels\n",
    "df['topic'] = get_topic_labels(20, corpus, ldas_dict[20])"
   ]
  },
  {
   "cell_type": "code",
   "execution_count": null,
   "metadata": {
    "collapsed": false
   },
   "outputs": [],
   "source": [
    "df['topic'] = df.topic + 1"
   ]
  },
  {
   "cell_type": "code",
   "execution_count": null,
   "metadata": {
    "collapsed": false
   },
   "outputs": [],
   "source": [
    "df.to_csv('to_plot.csv')"
   ]
  },
  {
   "cell_type": "markdown",
   "metadata": {},
   "source": [
    "## Plot by absolute number of projects per topic"
   ]
  },
  {
   "cell_type": "code",
   "execution_count": null,
   "metadata": {
    "collapsed": false
   },
   "outputs": [],
   "source": [
    "to_plot = pd.read_csv('to_plot.csv')"
   ]
  },
  {
   "cell_type": "code",
   "execution_count": null,
   "metadata": {
    "collapsed": false
   },
   "outputs": [],
   "source": [
    "topics_time = pd.DataFrame(to_plot.groupby(['year', 'topic'])['wordlist'].count())"
   ]
  },
  {
   "cell_type": "code",
   "execution_count": null,
   "metadata": {
    "collapsed": false
   },
   "outputs": [],
   "source": [
    "topics_time.unstack().plot()\n",
    "pyplot.gca().legend_.remove()"
   ]
  },
  {
   "cell_type": "markdown",
   "metadata": {},
   "source": [
    "## Plot by proportion of projects per year"
   ]
  },
  {
   "cell_type": "code",
   "execution_count": null,
   "metadata": {
    "collapsed": true
   },
   "outputs": [],
   "source": [
    "from bokeh.charts import Line, output_file, show\n",
    "from bokeh.models import HoverTool, Legend\n",
    "from bokeh.plotting import figure, ColumnDataSource\n",
    "from bokeh.palettes import Spectral6\n",
    "from itertools import cycle"
   ]
  },
  {
   "cell_type": "code",
   "execution_count": null,
   "metadata": {
    "collapsed": false
   },
   "outputs": [],
   "source": [
    "topics_matrix = topics_time.unstack().as_matrix()"
   ]
  },
  {
   "cell_type": "code",
   "execution_count": null,
   "metadata": {
    "collapsed": true
   },
   "outputs": [],
   "source": [
    "def get_bokeh(df, filename):\n",
    "    colors = Spectral6\n",
    "    colorcycler = cycle(colors)\n",
    "\n",
    "    source = ColumnDataSource(df_props)\n",
    "    p = figure(plot_width=800, plot_height=400, x_axis_label='Year', y_axis_label='Proportion', \n",
    "              title='How has neuroscience changed over time?')\n",
    "\n",
    "    for column in df_props.columns:\n",
    "        line = p.line(x = df_props.index, y=column, source=source, legend=False,\n",
    "                      line_color=next(colorcycler), line_width=3, line_cap='round', \n",
    "                      line_join='round')\n",
    "\n",
    "        p.add_tools(HoverTool(tooltips=[(\"Topic\", \"&nbsp;%s\" % column),], renderers=[line]))\n",
    "\n",
    "    output_file(filename + '.html')\n",
    "    show(p)\n",
    "    \n",
    "def get_indiv_plots(df):\n",
    "    # topic-specific plots\n",
    "    col_list = list(df_props.columns)\n",
    "    for i in col_list:\n",
    "        pyplot.figure()\n",
    "        df_props[i].plot()\n",
    "        pyplot.title(i)\n",
    "        pyplot.xlabel('Year')\n",
    "        pyplot.xlabel('Proportion')\n",
    "        pyplot.ylim([0,0.15])"
   ]
  },
  {
   "cell_type": "markdown",
   "metadata": {},
   "source": [
    "### Plots proportions of projects by year"
   ]
  },
  {
   "cell_type": "code",
   "execution_count": null,
   "metadata": {
    "collapsed": false,
    "scrolled": false
   },
   "outputs": [],
   "source": [
    "proportions = []\n",
    "for i in topics_matrix:\n",
    "    proportion = i/np.sum(i)\n",
    "    proportions.append(proportion)\n",
    "\n",
    "years = list(range(1985,1996)) + list(range(1997,2017))\n",
    "years = [str(year) for year in years]\n",
    "topic_col = range(1,21)\n",
    "df_props = pd.DataFrame(proportions, index=years, columns=topic_col)\n",
    "df_props.columns = topics_20\n",
    "\n",
    "get_bokeh(df_props, 'proportions')\n",
    "get_indiv_plots(df_props)"
   ]
  },
  {
   "cell_type": "markdown",
   "metadata": {},
   "source": [
    "### Plots proportions of projects by topic"
   ]
  },
  {
   "cell_type": "code",
   "execution_count": null,
   "metadata": {
    "collapsed": true
   },
   "outputs": [],
   "source": [
    "total = []\n",
    "col_sum = topics_matrix.sum(axis=0)\n",
    "for i in topics_matrix:\n",
    "    proportions = []\n",
    "    for j in range(len(i)):\n",
    "        proportion = i[j]/col_sum[j]\n",
    "        proportions.append(proportion)\n",
    "    total.append(proportions)\n",
    "    \n",
    "years = list(range(1985,1996)) + list(range(1997,2017))\n",
    "years = [str(year) for year in years]\n",
    "topic_col = range(1,21)\n",
    "df_props = pd.DataFrame(total, index=years, columns=topic_col)\n",
    "df_props.columns = topics_20\n",
    "\n",
    "get_bokeh(df_props, 'total')"
   ]
  },
  {
   "cell_type": "code",
   "execution_count": null,
   "metadata": {
    "collapsed": false,
    "scrolled": false
   },
   "outputs": [],
   "source": [
    "get_indiv_plots(df_props)"
   ]
  },
  {
   "cell_type": "code",
   "execution_count": null,
   "metadata": {
    "collapsed": true
   },
   "outputs": [],
   "source": []
  }
 ],
 "metadata": {
  "anaconda-cloud": {},
  "kernelspec": {
   "display_name": "Python [Root]",
   "language": "python",
   "name": "Python [Root]"
  },
  "language_info": {
   "codemirror_mode": {
    "name": "ipython",
    "version": 3
   },
   "file_extension": ".py",
   "mimetype": "text/x-python",
   "name": "python",
   "nbconvert_exporter": "python",
   "pygments_lexer": "ipython3",
   "version": "3.5.2"
  }
 },
 "nbformat": 4,
 "nbformat_minor": 0
}
