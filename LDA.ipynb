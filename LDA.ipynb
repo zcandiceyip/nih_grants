{
 "cells": [
  {
   "cell_type": "code",
   "execution_count": 1,
   "metadata": {
    "collapsed": false
   },
   "outputs": [
    {
     "name": "stderr",
     "output_type": "stream",
     "text": [
      "//anaconda/lib/python3.5/site-packages/ipykernel/pylab/config.py:66: DeprecationWarning: metadata {'config': True} was set from the constructor.  Metadata should be set using the .tag() method, e.g., Int().tag(key1='value1', key2='value2')\n",
      "  inline backend.\"\"\"\n",
      "//anaconda/lib/python3.5/site-packages/ipykernel/pylab/config.py:71: DeprecationWarning: metadata {'config': True} was set from the constructor.  Metadata should be set using the .tag() method, e.g., Int().tag(key1='value1', key2='value2')\n",
      "  'retina', 'jpeg', 'svg', 'pdf'.\"\"\")\n",
      "//anaconda/lib/python3.5/site-packages/ipykernel/pylab/config.py:85: DeprecationWarning: metadata {'config': True} was set from the constructor.  Metadata should be set using the .tag() method, e.g., Int().tag(key1='value1', key2='value2')\n",
      "  use `figure_formats` instead)\"\"\")\n",
      "//anaconda/lib/python3.5/site-packages/ipykernel/pylab/config.py:95: DeprecationWarning: metadata {'config': True} was set from the constructor.  Metadata should be set using the .tag() method, e.g., Int().tag(key1='value1', key2='value2')\n",
      "  \"\"\"\n",
      "//anaconda/lib/python3.5/site-packages/ipykernel/pylab/config.py:114: DeprecationWarning: metadata {'config': True} was set from the constructor.  Metadata should be set using the .tag() method, e.g., Int().tag(key1='value1', key2='value2')\n",
      "  \"\"\")\n",
      "//anaconda/lib/python3.5/site-packages/ipykernel/pylab/config.py:44: DeprecationWarning: InlineBackend._config_changed is deprecated: use @observe and @unobserve instead.\n",
      "  def _config_changed(self, name, old, new):\n",
      "//anaconda/lib/python3.5/site-packages/traitlets/traitlets.py:770: DeprecationWarning: A parent of InlineBackend._config_changed has adopted the new @observe(change) API\n",
      "  clsname, change_or_name), DeprecationWarning)\n",
      "//anaconda/lib/python3.5/site-packages/IPython/core/formatters.py:98: DeprecationWarning: DisplayFormatter._formatters_default is deprecated: use @default decorator instead.\n",
      "  def _formatters_default(self):\n",
      "//anaconda/lib/python3.5/site-packages/IPython/core/formatters.py:677: DeprecationWarning: PlainTextFormatter._deferred_printers_default is deprecated: use @default decorator instead.\n",
      "  def _deferred_printers_default(self):\n",
      "//anaconda/lib/python3.5/site-packages/IPython/core/formatters.py:669: DeprecationWarning: PlainTextFormatter._singleton_printers_default is deprecated: use @default decorator instead.\n",
      "  def _singleton_printers_default(self):\n",
      "//anaconda/lib/python3.5/site-packages/IPython/core/formatters.py:672: DeprecationWarning: PlainTextFormatter._type_printers_default is deprecated: use @default decorator instead.\n",
      "  def _type_printers_default(self):\n",
      "//anaconda/lib/python3.5/site-packages/IPython/core/formatters.py:672: DeprecationWarning: PlainTextFormatter._type_printers_default is deprecated: use @default decorator instead.\n",
      "  def _type_printers_default(self):\n",
      "//anaconda/lib/python3.5/site-packages/IPython/core/formatters.py:677: DeprecationWarning: PlainTextFormatter._deferred_printers_default is deprecated: use @default decorator instead.\n",
      "  def _deferred_printers_default(self):\n",
      "//anaconda/lib/python3.5/site-packages/ipykernel/kernelbase.py:43: DeprecationWarning: IPythonKernel._eventloop_changed is deprecated: use @observe and @unobserve instead.\n",
      "  def _eventloop_changed(self, name, old, new):\n"
     ]
    }
   ],
   "source": [
    "import pandas as pd\n",
    "import numpy as np\n",
    "import seaborn as sns\n",
    "from matplotlib import pyplot\n",
    "\n",
    "from gensim import corpora, models\n",
    "import pyLDAvis.gensim\n",
    "\n",
    "%matplotlib inline"
   ]
  },
  {
   "cell_type": "code",
   "execution_count": 2,
   "metadata": {
    "collapsed": true
   },
   "outputs": [],
   "source": [
    "df = pd.read_csv('all_years.csv')"
   ]
  },
  {
   "cell_type": "code",
   "execution_count": 3,
   "metadata": {
    "collapsed": false
   },
   "outputs": [
    {
     "name": "stderr",
     "output_type": "stream",
     "text": [
      "//anaconda/lib/python3.5/site-packages/IPython/core/formatters.py:92: DeprecationWarning: DisplayFormatter._ipython_display_formatter_default is deprecated: use @default decorator instead.\n",
      "  def _ipython_display_formatter_default(self):\n",
      "//anaconda/lib/python3.5/site-packages/IPython/core/formatters.py:669: DeprecationWarning: PlainTextFormatter._singleton_printers_default is deprecated: use @default decorator instead.\n",
      "  def _singleton_printers_default(self):\n"
     ]
    },
    {
     "data": {
      "text/html": [
       "<div>\n",
       "<table border=\"1\" class=\"dataframe\">\n",
       "  <thead>\n",
       "    <tr style=\"text-align: right;\">\n",
       "      <th></th>\n",
       "      <th>Unnamed: 0</th>\n",
       "      <th>wordlist</th>\n",
       "      <th>year</th>\n",
       "    </tr>\n",
       "  </thead>\n",
       "  <tbody>\n",
       "    <tr>\n",
       "      <th>0</th>\n",
       "      <td>21427</td>\n",
       "      <td>['program', 'research', 'design', 'investig', ...</td>\n",
       "      <td>1985</td>\n",
       "    </tr>\n",
       "    <tr>\n",
       "      <th>1</th>\n",
       "      <td>21430</td>\n",
       "      <td>['mammalian', 'alkaloid', 'result', 'condens',...</td>\n",
       "      <td>1985</td>\n",
       "    </tr>\n",
       "    <tr>\n",
       "      <th>2</th>\n",
       "      <td>21435</td>\n",
       "      <td>['exist', 'cognit', 'preceptualmotor', 'defici...</td>\n",
       "      <td>1985</td>\n",
       "    </tr>\n",
       "    <tr>\n",
       "      <th>3</th>\n",
       "      <td>21436</td>\n",
       "      <td>['although', 'alcohol', 'alcohol', 'abus', 're...</td>\n",
       "      <td>1985</td>\n",
       "    </tr>\n",
       "    <tr>\n",
       "      <th>4</th>\n",
       "      <td>21439</td>\n",
       "      <td>['recent', 'neuropsycholog', 'studi', 'detect'...</td>\n",
       "      <td>1985</td>\n",
       "    </tr>\n",
       "  </tbody>\n",
       "</table>\n",
       "</div>"
      ],
      "text/plain": [
       "   Unnamed: 0                                           wordlist  year\n",
       "0       21427  ['program', 'research', 'design', 'investig', ...  1985\n",
       "1       21430  ['mammalian', 'alkaloid', 'result', 'condens',...  1985\n",
       "2       21435  ['exist', 'cognit', 'preceptualmotor', 'defici...  1985\n",
       "3       21436  ['although', 'alcohol', 'alcohol', 'abus', 're...  1985\n",
       "4       21439  ['recent', 'neuropsycholog', 'studi', 'detect'...  1985"
      ]
     },
     "execution_count": 3,
     "metadata": {},
     "output_type": "execute_result"
    }
   ],
   "source": [
    "df.head()"
   ]
  },
  {
   "cell_type": "code",
   "execution_count": 4,
   "metadata": {
    "code_folding": [
     0
    ],
    "collapsed": true
   },
   "outputs": [],
   "source": [
    "def get_clean_wordlist(series):\n",
    "    texts = list(series)\n",
    "    \n",
    "    # clean wordlist\n",
    "    clean_texts = []\n",
    "    for text in texts:\n",
    "        text = text[2:-2].split(\"', '\")\n",
    "        clean_texts.append(text)\n",
    "    return clean_texts"
   ]
  },
  {
   "cell_type": "code",
   "execution_count": 5,
   "metadata": {
    "collapsed": true
   },
   "outputs": [],
   "source": [
    "texts = get_clean_wordlist(df.wordlist)"
   ]
  },
  {
   "cell_type": "code",
   "execution_count": 6,
   "metadata": {
    "collapsed": false
   },
   "outputs": [],
   "source": [
    "# get unique words list\n",
    "dictionary = corpora.Dictionary(texts)"
   ]
  },
  {
   "cell_type": "code",
   "execution_count": 7,
   "metadata": {
    "collapsed": false
   },
   "outputs": [],
   "source": [
    "# get document-term matrix\n",
    "corpus = [dictionary.doc2bow(tex) for tex in texts]"
   ]
  },
  {
   "cell_type": "markdown",
   "metadata": {},
   "source": [
    "# How many neuro projects a year overall?"
   ]
  },
  {
   "cell_type": "code",
   "execution_count": 8,
   "metadata": {
    "collapsed": false
   },
   "outputs": [
    {
     "data": {
      "text/plain": [
       "<matplotlib.axes._subplots.AxesSubplot at 0x1d5350470>"
      ]
     },
     "execution_count": 8,
     "metadata": {},
     "output_type": "execute_result"
    },
    {
     "data": {
      "image/png": "[encoded data removed]",
      "text/plain": [
       "<matplotlib.figure.Figure at 0x18a8ada58>"
      ]
     },
     "metadata": {},
     "output_type": "display_data"
    }
   ],
   "source": [
    "df.groupby('year')['wordlist'].count().plot()"
   ]
  },
  {
   "cell_type": "markdown",
   "metadata": {},
   "source": [
    "- There is a trend of an increase funding for neuroscience R01s and then stagnation from about 2005.\n",
    "- Why the sudden drop in abstracts in 1996? Digging into the dataframe for 1996, I found that many of the abstracts were not recorded and thus were given NaN values -- for all R01s in 1996, only 1024 of them had abstract text. For this project, it is fine to simply drop all the data for 1996 since I haver 30 years of data."
   ]
  },
  {
   "cell_type": "code",
   "execution_count": 13,
   "metadata": {
    "collapsed": true
   },
   "outputs": [],
   "source": [
    "# drop 1996 from df\n",
    "df = df[df.year != 1996]"
   ]
  },
  {
   "cell_type": "markdown",
   "metadata": {},
   "source": [
    "# Let's try some different parameters for LDA."
   ]
  },
  {
   "cell_type": "code",
   "execution_count": 16,
   "metadata": {
    "collapsed": false
   },
   "outputs": [],
   "source": [
    "def lda(corpus, num_topics, passes, alpha):\n",
    "    lda = models.ldamodel.LdaModel(corpus, num_topics=num_topics, passes=passes, alpha=alpha)\n",
    "    followers_data =  pyLDAvis.gensim.prepare(lda, corpus, dictionary)\n",
    "    pyLDAvis.display(followers_data)\n",
    "\n",
    "    pyLDAvis.save_html(followers_data, 'LDA_' + str(num_topics) + '_' + str(num_passes) + '_' + str(alpha) + '.html')\n",
    "    \n",
    "    return lda"
   ]
  },
  {
   "cell_type": "code",
   "execution_count": null,
   "metadata": {
    "collapsed": false
   },
   "outputs": [],
   "source": [
    "ldas_dict = {}\n",
    "num_topics = [8, 15, 25, 40]\n",
    "passes = 10\n",
    "alpha = 0.01\n",
    "\n",
    "for topic in num_topics:\n",
    "    lda = lda(corpus, topic, passes, alpha)\n",
    "    ldas_dict[topic] = lda"
   ]
  },
  {
   "cell_type": "raw",
   "metadata": {},
   "source": [
    "1. longitudinal human studies\n",
    "2. behavior/general systems\n",
    "3. sensory systems\n",
    "4. development, retina\n",
    "5. molecular neuroscience\n",
    "6. brain imaging studies\n",
    "7. autism and schizophrenia human studies\n",
    "8. cell transport (vesicles, microtubules, actin)\n",
    "9. synapse transmission/ephys\n",
    "10. brain stress (degeneration, stress, ROS)\n",
    "11. neurotransmission, ligand-receptor interactions\n",
    "12. signaling pathways\n",
    "13. ischemia\n",
    "14. neurodegenerative diseases (PD, alzheimers)\n",
    "15. pain\n",
    "16. channel physiology\n",
    "17. depression/alcohol\n",
    "18. addictive behaviors/dopamine/seratonin (reward and addiction)\n",
    "19. neuroendocrine system\n",
    "20. neuroimmunology\n",
    "21. obesity/diabetes/gut\n",
    "22. human embryonic development\n",
    "23. motor behaviors\n",
    "24. sleep\n",
    "25. peripheral nervous system injury?"
   ]
  },
  {
   "cell_type": "markdown",
   "metadata": {},
   "source": [
    "# Quantification and visualization"
   ]
  },
  {
   "cell_type": "markdown",
   "metadata": {},
   "source": [
    "## How big is each topic overall?"
   ]
  },
  {
   "cell_type": "markdown",
   "metadata": {},
   "source": [
    "I will try to quantify how big each topic is in two ways. First, split up project based on topic probability. And get topic size by summing up proportions of each project inside it."
   ]
  },
  {
   "cell_type": "code",
   "execution_count": null,
   "metadata": {
    "code_folding": [
     0
    ],
    "collapsed": true
   },
   "outputs": [],
   "source": [
    "def get_topic_size_split_project(num_topics, corpus, lda):\n",
    "    \n",
    "    # initialize topic dict\n",
    "    topic_dict = {}\n",
    "    for j in range(num_topics):\n",
    "        topic_dict[j] = 0\n",
    "    \n",
    "    # add project proportions into each topic\n",
    "    for i in range(len(corpus)):\n",
    "        doc_topics = lda.get_document_topics(corpus[i])\n",
    "        for topic in doc_topics:\n",
    "            topic_dict[topic[0]] += topic[1]\n",
    "    \n",
    "    return topic_dict"
   ]
  },
  {
   "cell_type": "markdown",
   "metadata": {},
   "source": [
    "Second, bin the entire project into a topic space based on highest probability."
   ]
  },
  {
   "cell_type": "code",
   "execution_count": null,
   "metadata": {
    "code_folding": [],
    "collapsed": true
   },
   "outputs": [],
   "source": [
    "def get_topic_size_whole_project(num_topics, corpus, lda):\n",
    "    from operator import itemgetter\n",
    "    \n",
    "    # initialize topic dict\n",
    "    topic_dict = {}\n",
    "    for j in range(num_topics):\n",
    "        topic_dict[j] = 0\n",
    "    \n",
    "    # add whole projects into topic\n",
    "    for i in range(len(corpus)):\n",
    "        doc_topics = lda.get_document_topics(corpus[i])\n",
    "        np_topics = np.array(doc_topics)\n",
    "        index = np.argmax(np_topics, axis=0)[1]\n",
    "        topic_dict[doc_topics[index][0]] += 1\n",
    "        \n",
    "    assert (sum(topic_dict.values()) == len(corpus)), \"algo wrong\"\n",
    "    return topic_dict"
   ]
  },
  {
   "cell_type": "code",
   "execution_count": null,
   "metadata": {
    "code_folding": [
     0
    ],
    "collapsed": true
   },
   "outputs": [],
   "source": [
    "def topic_size_scatter(topic_dict):\n",
    "    td_list = [(k,v) for k,v in topic_dict.items()] \n",
    "    x_td_list = [x[0] for x in td_list]\n",
    "    y_td_list = [x[1] for x in td_list]\n",
    "    return x_td_list, y_td_list"
   ]
  },
  {
   "cell_type": "markdown",
   "metadata": {},
   "source": [
    "### How similar are the two ways I choose to represent topic size?"
   ]
  },
  {
   "cell_type": "code",
   "execution_count": null,
   "metadata": {
    "collapsed": true
   },
   "outputs": [],
   "source": [
    "def topic_size(num_topics, corpus, lda):\n",
    "\n",
    "    split_dict = get_topic_size_split_project(25, corpus, lda)\n",
    "    whole_dict = get_topic_size_whole_project(25, corpus, lda)\n",
    "\n",
    "    s_x, s_y = topic_size_scatter(split_dict)\n",
    "    w_x, w_y = topic_size_scatter(whole_dict)\n",
    "\n",
    "    pyplot.scatter(s_x, s_y, color='b')\n",
    "    pyplot.scatter(w_x, w_y, color='r')\n",
    "    \n",
    "    return whole_dict"
   ]
  },
  {
   "cell_type": "code",
   "execution_count": null,
   "metadata": {
    "collapsed": true
   },
   "outputs": [],
   "source": [
    "whole_dict = topic_size(num_topics, corpus, lda)"
   ]
  },
  {
   "cell_type": "markdown",
   "metadata": {},
   "source": [
    "Pretty similar! I am going to use whole_dict here, since both ways of representing topic size yields the same information."
   ]
  },
  {
   "cell_type": "markdown",
   "metadata": {},
   "source": [
    "## How has the size of each topic changed over time?"
   ]
  },
  {
   "cell_type": "code",
   "execution_count": null,
   "metadata": {
    "collapsed": true
   },
   "outputs": [],
   "source": [
    "# get labels for each topic\n",
    "\n",
    "def get_topic_labels(num_topics, corpus, lda):\n",
    "    topic_labels = []\n",
    "    for i in range(len(corpus)):\n",
    "        doc_topics = lda.get_document_topics(corpus[i])\n",
    "        np_topics = np.array(doc_topics)\n",
    "        index = np.argmax(np_topics, axis=0)[1]\n",
    "        topic_labels.append(doc_topics[index][0])\n",
    "    return topic_labels\n",
    "df['topic'] = get_topic_labels()"
   ]
  },
  {
   "cell_type": "code",
   "execution_count": null,
   "metadata": {
    "collapsed": true
   },
   "outputs": [],
   "source": []
  },
  {
   "cell_type": "code",
   "execution_count": null,
   "metadata": {
    "collapsed": true
   },
   "outputs": [],
   "source": []
  },
  {
   "cell_type": "code",
   "execution_count": null,
   "metadata": {
    "collapsed": true
   },
   "outputs": [],
   "source": []
  },
  {
   "cell_type": "code",
   "execution_count": null,
   "metadata": {
    "collapsed": true
   },
   "outputs": [],
   "source": []
  },
  {
   "cell_type": "code",
   "execution_count": null,
   "metadata": {
    "collapsed": true
   },
   "outputs": [],
   "source": []
  },
  {
   "cell_type": "code",
   "execution_count": null,
   "metadata": {
    "collapsed": true
   },
   "outputs": [],
   "source": []
  },
  {
   "cell_type": "code",
   "execution_count": null,
   "metadata": {
    "collapsed": true
   },
   "outputs": [],
   "source": []
  },
  {
   "cell_type": "code",
   "execution_count": null,
   "metadata": {
    "collapsed": true
   },
   "outputs": [],
   "source": []
  },
  {
   "cell_type": "code",
   "execution_count": null,
   "metadata": {
    "collapsed": true
   },
   "outputs": [],
   "source": []
  },
  {
   "cell_type": "code",
   "execution_count": null,
   "metadata": {
    "collapsed": true
   },
   "outputs": [],
   "source": []
  },
  {
   "cell_type": "code",
   "execution_count": null,
   "metadata": {
    "collapsed": true
   },
   "outputs": [],
   "source": [
    "# Export things\n",
    "save_things = pd.DataFrame()\n",
    "save_things['topics'] = topic_head.values()\n",
    "save_things['s_y'] = s_y\n",
    "save_things['w_y'] = w_y\n",
    "\n",
    "df_neuro_granttype['corpus'] = corpus"
   ]
  }
 ],
 "metadata": {
  "anaconda-cloud": {},
  "kernelspec": {
   "display_name": "Python [Root]",
   "language": "python",
   "name": "Python [Root]"
  },
  "language_info": {
   "codemirror_mode": {
    "name": "ipython",
    "version": 3
   },
   "file_extension": ".py",
   "mimetype": "text/x-python",
   "name": "python",
   "nbconvert_exporter": "python",
   "pygments_lexer": "ipython3",
   "version": "3.5.2"
  }
 },
 "nbformat": 4,
 "nbformat_minor": 0
}
